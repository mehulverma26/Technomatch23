{
 "cells": [
  {
   "cell_type": "code",
   "execution_count": 2,
   "metadata": {},
   "outputs": [
    {
     "name": "stdout",
     "output_type": "stream",
     "text": [
      "Requirement already satisfied: pandas in c:\\users\\mehul\\appdata\\local\\programs\\python\\python38\\lib\\site-packages (1.5.3)Note: you may need to restart the kernel to use updated packages.\n",
      "\n",
      "Requirement already satisfied: numpy>=1.20.3 in c:\\users\\mehul\\appdata\\local\\programs\\python\\python38\\lib\\site-packages (from pandas) (1.24.2)\n",
      "Requirement already satisfied: python-dateutil>=2.8.1 in c:\\users\\mehul\\appdata\\local\\programs\\python\\python38\\lib\\site-packages (from pandas) (2.8.2)\n",
      "Requirement already satisfied: pytz>=2020.1 in c:\\users\\mehul\\appdata\\local\\programs\\python\\python38\\lib\\site-packages (from pandas) (2022.7.1)\n",
      "Requirement already satisfied: six>=1.5 in c:\\users\\mehul\\appdata\\local\\programs\\python\\python38\\lib\\site-packages (from python-dateutil>=2.8.1->pandas) (1.16.0)\n"
     ]
    }
   ],
   "source": [
    "%pip install --upgrade pandas"
   ]
  },
  {
   "cell_type": "code",
   "execution_count": 3,
   "metadata": {},
   "outputs": [],
   "source": [
    "import pandas as pd\n",
    "\n",
    "weather = pd.read_csv(\"all.csv\", index_col=\"name\")"
   ]
  },
  {
   "cell_type": "code",
   "execution_count": 4,
   "metadata": {},
   "outputs": [
    {
     "data": {
      "text/html": [
       "<div>\n",
       "<style scoped>\n",
       "    .dataframe tbody tr th:only-of-type {\n",
       "        vertical-align: middle;\n",
       "    }\n",
       "\n",
       "    .dataframe tbody tr th {\n",
       "        vertical-align: top;\n",
       "    }\n",
       "\n",
       "    .dataframe thead th {\n",
       "        text-align: right;\n",
       "    }\n",
       "</style>\n",
       "<table border=\"1\" class=\"dataframe\">\n",
       "  <thead>\n",
       "    <tr style=\"text-align: right;\">\n",
       "      <th></th>\n",
       "      <th>datetime</th>\n",
       "      <th>tempmax</th>\n",
       "      <th>tempmin</th>\n",
       "      <th>temp</th>\n",
       "      <th>feelslikemax</th>\n",
       "      <th>feelslikemin</th>\n",
       "      <th>feelslike</th>\n",
       "      <th>dew</th>\n",
       "      <th>humidity</th>\n",
       "      <th>precip</th>\n",
       "      <th>...</th>\n",
       "      <th>solarenergy</th>\n",
       "      <th>uvindex</th>\n",
       "      <th>severerisk</th>\n",
       "      <th>sunrise</th>\n",
       "      <th>sunset</th>\n",
       "      <th>moonphase</th>\n",
       "      <th>conditions</th>\n",
       "      <th>description</th>\n",
       "      <th>icon</th>\n",
       "      <th>stations</th>\n",
       "    </tr>\n",
       "    <tr>\n",
       "      <th>name</th>\n",
       "      <th></th>\n",
       "      <th></th>\n",
       "      <th></th>\n",
       "      <th></th>\n",
       "      <th></th>\n",
       "      <th></th>\n",
       "      <th></th>\n",
       "      <th></th>\n",
       "      <th></th>\n",
       "      <th></th>\n",
       "      <th></th>\n",
       "      <th></th>\n",
       "      <th></th>\n",
       "      <th></th>\n",
       "      <th></th>\n",
       "      <th></th>\n",
       "      <th></th>\n",
       "      <th></th>\n",
       "      <th></th>\n",
       "      <th></th>\n",
       "      <th></th>\n",
       "    </tr>\n",
       "  </thead>\n",
       "  <tbody>\n",
       "    <tr>\n",
       "      <th>Bhopal</th>\n",
       "      <td>22-03-2023</td>\n",
       "      <td>31.2</td>\n",
       "      <td>19.0</td>\n",
       "      <td>25.7</td>\n",
       "      <td>29.1</td>\n",
       "      <td>19.0</td>\n",
       "      <td>25.0</td>\n",
       "      <td>7.8</td>\n",
       "      <td>35.1</td>\n",
       "      <td>0.0</td>\n",
       "      <td>...</td>\n",
       "      <td>22.5</td>\n",
       "      <td>10</td>\n",
       "      <td>10</td>\n",
       "      <td>2023-03-22T06:22:59</td>\n",
       "      <td>2023-03-22T18:32:09</td>\n",
       "      <td>0.02</td>\n",
       "      <td>Partially cloudy</td>\n",
       "      <td>Partly cloudy throughout the day.</td>\n",
       "      <td>partly-cloudy-day</td>\n",
       "      <td>VABP,remote</td>\n",
       "    </tr>\n",
       "    <tr>\n",
       "      <th>Bhopal</th>\n",
       "      <td>23-03-2023</td>\n",
       "      <td>32.0</td>\n",
       "      <td>22.0</td>\n",
       "      <td>27.2</td>\n",
       "      <td>29.9</td>\n",
       "      <td>22.0</td>\n",
       "      <td>26.3</td>\n",
       "      <td>7.5</td>\n",
       "      <td>30.0</td>\n",
       "      <td>0.0</td>\n",
       "      <td>...</td>\n",
       "      <td>22.1</td>\n",
       "      <td>9</td>\n",
       "      <td>10</td>\n",
       "      <td>2023-03-23T06:22:01</td>\n",
       "      <td>2023-03-23T18:32:32</td>\n",
       "      <td>0.05</td>\n",
       "      <td>Partially cloudy</td>\n",
       "      <td>Partly cloudy throughout the day.</td>\n",
       "      <td>partly-cloudy-day</td>\n",
       "      <td>NaN</td>\n",
       "    </tr>\n",
       "    <tr>\n",
       "      <th>Bhopal</th>\n",
       "      <td>24-03-2023</td>\n",
       "      <td>33.9</td>\n",
       "      <td>22.6</td>\n",
       "      <td>28.5</td>\n",
       "      <td>31.8</td>\n",
       "      <td>22.6</td>\n",
       "      <td>27.5</td>\n",
       "      <td>7.7</td>\n",
       "      <td>27.7</td>\n",
       "      <td>0.0</td>\n",
       "      <td>...</td>\n",
       "      <td>24.6</td>\n",
       "      <td>10</td>\n",
       "      <td>10</td>\n",
       "      <td>2023-03-24T06:21:02</td>\n",
       "      <td>2023-03-24T18:32:55</td>\n",
       "      <td>0.08</td>\n",
       "      <td>Clear</td>\n",
       "      <td>Clear conditions throughout the day.</td>\n",
       "      <td>clear-day</td>\n",
       "      <td>NaN</td>\n",
       "    </tr>\n",
       "    <tr>\n",
       "      <th>Bhopal</th>\n",
       "      <td>25-03-2023</td>\n",
       "      <td>33.6</td>\n",
       "      <td>21.1</td>\n",
       "      <td>27.8</td>\n",
       "      <td>31.3</td>\n",
       "      <td>21.1</td>\n",
       "      <td>26.8</td>\n",
       "      <td>4.9</td>\n",
       "      <td>23.7</td>\n",
       "      <td>0.0</td>\n",
       "      <td>...</td>\n",
       "      <td>25.7</td>\n",
       "      <td>10</td>\n",
       "      <td>10</td>\n",
       "      <td>2023-03-25T06:20:03</td>\n",
       "      <td>2023-03-25T18:33:17</td>\n",
       "      <td>0.11</td>\n",
       "      <td>Clear</td>\n",
       "      <td>Clear conditions throughout the day.</td>\n",
       "      <td>clear-day</td>\n",
       "      <td>NaN</td>\n",
       "    </tr>\n",
       "    <tr>\n",
       "      <th>Bhopal</th>\n",
       "      <td>26-03-2023</td>\n",
       "      <td>34.2</td>\n",
       "      <td>22.0</td>\n",
       "      <td>28.4</td>\n",
       "      <td>31.9</td>\n",
       "      <td>22.0</td>\n",
       "      <td>27.2</td>\n",
       "      <td>4.2</td>\n",
       "      <td>21.8</td>\n",
       "      <td>0.1</td>\n",
       "      <td>...</td>\n",
       "      <td>24.0</td>\n",
       "      <td>10</td>\n",
       "      <td>10</td>\n",
       "      <td>2023-03-26T06:19:04</td>\n",
       "      <td>2023-03-26T18:33:40</td>\n",
       "      <td>0.15</td>\n",
       "      <td>Clear</td>\n",
       "      <td>Clear conditions throughout the day.</td>\n",
       "      <td>clear-day</td>\n",
       "      <td>NaN</td>\n",
       "    </tr>\n",
       "    <tr>\n",
       "      <th>...</th>\n",
       "      <td>...</td>\n",
       "      <td>...</td>\n",
       "      <td>...</td>\n",
       "      <td>...</td>\n",
       "      <td>...</td>\n",
       "      <td>...</td>\n",
       "      <td>...</td>\n",
       "      <td>...</td>\n",
       "      <td>...</td>\n",
       "      <td>...</td>\n",
       "      <td>...</td>\n",
       "      <td>...</td>\n",
       "      <td>...</td>\n",
       "      <td>...</td>\n",
       "      <td>...</td>\n",
       "      <td>...</td>\n",
       "      <td>...</td>\n",
       "      <td>...</td>\n",
       "      <td>...</td>\n",
       "      <td>...</td>\n",
       "      <td>...</td>\n",
       "    </tr>\n",
       "    <tr>\n",
       "      <th>Pune</th>\n",
       "      <td>01-04-2023</td>\n",
       "      <td>31.1</td>\n",
       "      <td>19.6</td>\n",
       "      <td>25.2</td>\n",
       "      <td>29.6</td>\n",
       "      <td>19.6</td>\n",
       "      <td>24.8</td>\n",
       "      <td>13.9</td>\n",
       "      <td>53.4</td>\n",
       "      <td>0.1</td>\n",
       "      <td>...</td>\n",
       "      <td>19.2</td>\n",
       "      <td>7</td>\n",
       "      <td>10</td>\n",
       "      <td>2023-04-01T06:29:13</td>\n",
       "      <td>2023-04-01T18:48:16</td>\n",
       "      <td>0.34</td>\n",
       "      <td>Partially cloudy</td>\n",
       "      <td>Becoming cloudy in the afternoon.</td>\n",
       "      <td>partly-cloudy-day</td>\n",
       "      <td>NaN</td>\n",
       "    </tr>\n",
       "    <tr>\n",
       "      <th>Pune</th>\n",
       "      <td>02-04-2023</td>\n",
       "      <td>32.9</td>\n",
       "      <td>19.0</td>\n",
       "      <td>25.2</td>\n",
       "      <td>30.8</td>\n",
       "      <td>19.0</td>\n",
       "      <td>24.5</td>\n",
       "      <td>9.7</td>\n",
       "      <td>41.5</td>\n",
       "      <td>0.0</td>\n",
       "      <td>...</td>\n",
       "      <td>24.9</td>\n",
       "      <td>9</td>\n",
       "      <td>10</td>\n",
       "      <td>2023-04-02T06:28:24</td>\n",
       "      <td>2023-04-02T18:48:29</td>\n",
       "      <td>0.37</td>\n",
       "      <td>Clear</td>\n",
       "      <td>Clear conditions throughout the day.</td>\n",
       "      <td>clear-day</td>\n",
       "      <td>NaN</td>\n",
       "    </tr>\n",
       "    <tr>\n",
       "      <th>Pune</th>\n",
       "      <td>03-04-2023</td>\n",
       "      <td>33.5</td>\n",
       "      <td>18.1</td>\n",
       "      <td>25.0</td>\n",
       "      <td>31.0</td>\n",
       "      <td>18.1</td>\n",
       "      <td>24.2</td>\n",
       "      <td>6.7</td>\n",
       "      <td>36.5</td>\n",
       "      <td>0.0</td>\n",
       "      <td>...</td>\n",
       "      <td>27.3</td>\n",
       "      <td>10</td>\n",
       "      <td>10</td>\n",
       "      <td>2023-04-03T06:27:35</td>\n",
       "      <td>2023-04-03T18:48:43</td>\n",
       "      <td>0.41</td>\n",
       "      <td>Partially cloudy</td>\n",
       "      <td>Becoming cloudy in the afternoon.</td>\n",
       "      <td>partly-cloudy-day</td>\n",
       "      <td>NaN</td>\n",
       "    </tr>\n",
       "    <tr>\n",
       "      <th>Pune</th>\n",
       "      <td>04-04-2023</td>\n",
       "      <td>33.8</td>\n",
       "      <td>17.6</td>\n",
       "      <td>24.8</td>\n",
       "      <td>31.3</td>\n",
       "      <td>17.6</td>\n",
       "      <td>24.1</td>\n",
       "      <td>9.7</td>\n",
       "      <td>45.7</td>\n",
       "      <td>0.0</td>\n",
       "      <td>...</td>\n",
       "      <td>27.3</td>\n",
       "      <td>10</td>\n",
       "      <td>10</td>\n",
       "      <td>2023-04-04T06:26:46</td>\n",
       "      <td>2023-04-04T18:48:57</td>\n",
       "      <td>0.44</td>\n",
       "      <td>Clear</td>\n",
       "      <td>Clear conditions throughout the day.</td>\n",
       "      <td>clear-day</td>\n",
       "      <td>NaN</td>\n",
       "    </tr>\n",
       "    <tr>\n",
       "      <th>Pune</th>\n",
       "      <td>05-04-2023</td>\n",
       "      <td>33.8</td>\n",
       "      <td>17.7</td>\n",
       "      <td>25.0</td>\n",
       "      <td>31.4</td>\n",
       "      <td>17.7</td>\n",
       "      <td>24.3</td>\n",
       "      <td>11.8</td>\n",
       "      <td>50.7</td>\n",
       "      <td>0.0</td>\n",
       "      <td>...</td>\n",
       "      <td>26.7</td>\n",
       "      <td>10</td>\n",
       "      <td>10</td>\n",
       "      <td>2023-04-05T06:25:58</td>\n",
       "      <td>2023-04-05T18:49:10</td>\n",
       "      <td>0.47</td>\n",
       "      <td>Clear</td>\n",
       "      <td>Clear conditions throughout the day.</td>\n",
       "      <td>clear-day</td>\n",
       "      <td>NaN</td>\n",
       "    </tr>\n",
       "  </tbody>\n",
       "</table>\n",
       "<p>66 rows × 32 columns</p>\n",
       "</div>"
      ],
      "text/plain": [
       "          datetime  tempmax  tempmin  temp  feelslikemax  feelslikemin  \\\n",
       "name                                                                     \n",
       "Bhopal  22-03-2023     31.2     19.0  25.7          29.1          19.0   \n",
       "Bhopal  23-03-2023     32.0     22.0  27.2          29.9          22.0   \n",
       "Bhopal  24-03-2023     33.9     22.6  28.5          31.8          22.6   \n",
       "Bhopal  25-03-2023     33.6     21.1  27.8          31.3          21.1   \n",
       "Bhopal  26-03-2023     34.2     22.0  28.4          31.9          22.0   \n",
       "...            ...      ...      ...   ...           ...           ...   \n",
       "Pune    01-04-2023     31.1     19.6  25.2          29.6          19.6   \n",
       "Pune    02-04-2023     32.9     19.0  25.2          30.8          19.0   \n",
       "Pune    03-04-2023     33.5     18.1  25.0          31.0          18.1   \n",
       "Pune    04-04-2023     33.8     17.6  24.8          31.3          17.6   \n",
       "Pune    05-04-2023     33.8     17.7  25.0          31.4          17.7   \n",
       "\n",
       "        feelslike   dew  humidity  precip  ...  solarenergy  uvindex  \\\n",
       "name                                       ...                         \n",
       "Bhopal       25.0   7.8      35.1     0.0  ...         22.5       10   \n",
       "Bhopal       26.3   7.5      30.0     0.0  ...         22.1        9   \n",
       "Bhopal       27.5   7.7      27.7     0.0  ...         24.6       10   \n",
       "Bhopal       26.8   4.9      23.7     0.0  ...         25.7       10   \n",
       "Bhopal       27.2   4.2      21.8     0.1  ...         24.0       10   \n",
       "...           ...   ...       ...     ...  ...          ...      ...   \n",
       "Pune         24.8  13.9      53.4     0.1  ...         19.2        7   \n",
       "Pune         24.5   9.7      41.5     0.0  ...         24.9        9   \n",
       "Pune         24.2   6.7      36.5     0.0  ...         27.3       10   \n",
       "Pune         24.1   9.7      45.7     0.0  ...         27.3       10   \n",
       "Pune         24.3  11.8      50.7     0.0  ...         26.7       10   \n",
       "\n",
       "       severerisk              sunrise               sunset  moonphase  \\\n",
       "name                                                                     \n",
       "Bhopal         10  2023-03-22T06:22:59  2023-03-22T18:32:09       0.02   \n",
       "Bhopal         10  2023-03-23T06:22:01  2023-03-23T18:32:32       0.05   \n",
       "Bhopal         10  2023-03-24T06:21:02  2023-03-24T18:32:55       0.08   \n",
       "Bhopal         10  2023-03-25T06:20:03  2023-03-25T18:33:17       0.11   \n",
       "Bhopal         10  2023-03-26T06:19:04  2023-03-26T18:33:40       0.15   \n",
       "...           ...                  ...                  ...        ...   \n",
       "Pune           10  2023-04-01T06:29:13  2023-04-01T18:48:16       0.34   \n",
       "Pune           10  2023-04-02T06:28:24  2023-04-02T18:48:29       0.37   \n",
       "Pune           10  2023-04-03T06:27:35  2023-04-03T18:48:43       0.41   \n",
       "Pune           10  2023-04-04T06:26:46  2023-04-04T18:48:57       0.44   \n",
       "Pune           10  2023-04-05T06:25:58  2023-04-05T18:49:10       0.47   \n",
       "\n",
       "              conditions                           description  \\\n",
       "name                                                             \n",
       "Bhopal  Partially cloudy     Partly cloudy throughout the day.   \n",
       "Bhopal  Partially cloudy     Partly cloudy throughout the day.   \n",
       "Bhopal             Clear  Clear conditions throughout the day.   \n",
       "Bhopal             Clear  Clear conditions throughout the day.   \n",
       "Bhopal             Clear  Clear conditions throughout the day.   \n",
       "...                  ...                                   ...   \n",
       "Pune    Partially cloudy     Becoming cloudy in the afternoon.   \n",
       "Pune               Clear  Clear conditions throughout the day.   \n",
       "Pune    Partially cloudy     Becoming cloudy in the afternoon.   \n",
       "Pune               Clear  Clear conditions throughout the day.   \n",
       "Pune               Clear  Clear conditions throughout the day.   \n",
       "\n",
       "                     icon     stations  \n",
       "name                                    \n",
       "Bhopal  partly-cloudy-day  VABP,remote  \n",
       "Bhopal  partly-cloudy-day          NaN  \n",
       "Bhopal          clear-day          NaN  \n",
       "Bhopal          clear-day          NaN  \n",
       "Bhopal          clear-day          NaN  \n",
       "...                   ...          ...  \n",
       "Pune    partly-cloudy-day          NaN  \n",
       "Pune            clear-day          NaN  \n",
       "Pune    partly-cloudy-day          NaN  \n",
       "Pune            clear-day          NaN  \n",
       "Pune            clear-day          NaN  \n",
       "\n",
       "[66 rows x 32 columns]"
      ]
     },
     "execution_count": 4,
     "metadata": {},
     "output_type": "execute_result"
    }
   ],
   "source": [
    "weather"
   ]
  },
  {
   "cell_type": "code",
   "execution_count": 5,
   "metadata": {},
   "outputs": [
    {
     "data": {
      "text/plain": [
       "datetime            0.000000\n",
       "tempmax             0.000000\n",
       "tempmin             0.000000\n",
       "temp                0.000000\n",
       "feelslikemax        0.000000\n",
       "feelslikemin        0.000000\n",
       "feelslike           0.000000\n",
       "dew                 0.000000\n",
       "humidity            0.000000\n",
       "precip              0.000000\n",
       "precipprob          0.000000\n",
       "precipcover         0.000000\n",
       "preciptype          0.696970\n",
       "snow                0.000000\n",
       "snowdepth           0.227273\n",
       "windgust            0.000000\n",
       "windspeed           0.000000\n",
       "winddir             0.000000\n",
       "sealevelpressure    0.000000\n",
       "cloudcover          0.000000\n",
       "visibility          0.000000\n",
       "solarradiation      0.000000\n",
       "solarenergy         0.000000\n",
       "uvindex             0.000000\n",
       "severerisk          0.000000\n",
       "sunrise             0.000000\n",
       "sunset              0.000000\n",
       "moonphase           0.000000\n",
       "conditions          0.000000\n",
       "description         0.000000\n",
       "icon                0.000000\n",
       "stations            0.924242\n",
       "dtype: float64"
      ]
     },
     "execution_count": 5,
     "metadata": {},
     "output_type": "execute_result"
    }
   ],
   "source": [
    "weather.apply(pd.isnull).sum()/weather.shape[0]"
   ]
  },
  {
   "cell_type": "code",
   "execution_count": 6,
   "metadata": {},
   "outputs": [],
   "source": [
    "core_weather = weather[[ \"datetime\",\"precip\", \"snow\", \"snowdepth\", \"tempmax\", \"tempmin\"]].copy()\n",
    "core_weather.columns = [\"date\",\"precip\", \"snow\", \"snow_depth\", \"temp_max\", \"temp_min\"]"
   ]
  },
  {
   "cell_type": "code",
   "execution_count": 7,
   "metadata": {},
   "outputs": [
    {
     "data": {
      "text/plain": [
       "date           0\n",
       "precip         0\n",
       "snow           0\n",
       "snow_depth    15\n",
       "temp_max       0\n",
       "temp_min       0\n",
       "dtype: int64"
      ]
     },
     "execution_count": 7,
     "metadata": {},
     "output_type": "execute_result"
    }
   ],
   "source": [
    "core_weather.apply(pd.isnull).sum()"
   ]
  },
  {
   "cell_type": "code",
   "execution_count": 8,
   "metadata": {},
   "outputs": [
    {
     "data": {
      "text/plain": [
       "0    66\n",
       "Name: snow, dtype: int64"
      ]
     },
     "execution_count": 8,
     "metadata": {},
     "output_type": "execute_result"
    }
   ],
   "source": [
    "core_weather[\"snow\"].value_counts()"
   ]
  },
  {
   "cell_type": "code",
   "execution_count": 9,
   "metadata": {},
   "outputs": [
    {
     "data": {
      "text/plain": [
       "0.0    51\n",
       "Name: snow_depth, dtype: int64"
      ]
     },
     "execution_count": 9,
     "metadata": {},
     "output_type": "execute_result"
    }
   ],
   "source": [
    "core_weather[\"snow_depth\"].value_counts()"
   ]
  },
  {
   "cell_type": "code",
   "execution_count": 10,
   "metadata": {},
   "outputs": [],
   "source": [
    "del core_weather[\"snow\"]"
   ]
  },
  {
   "cell_type": "code",
   "execution_count": 11,
   "metadata": {},
   "outputs": [],
   "source": [
    "del core_weather[\"snow_depth\"]"
   ]
  },
  {
   "cell_type": "code",
   "execution_count": 12,
   "metadata": {},
   "outputs": [
    {
     "data": {
      "text/html": [
       "<div>\n",
       "<style scoped>\n",
       "    .dataframe tbody tr th:only-of-type {\n",
       "        vertical-align: middle;\n",
       "    }\n",
       "\n",
       "    .dataframe tbody tr th {\n",
       "        vertical-align: top;\n",
       "    }\n",
       "\n",
       "    .dataframe thead th {\n",
       "        text-align: right;\n",
       "    }\n",
       "</style>\n",
       "<table border=\"1\" class=\"dataframe\">\n",
       "  <thead>\n",
       "    <tr style=\"text-align: right;\">\n",
       "      <th></th>\n",
       "      <th>date</th>\n",
       "      <th>precip</th>\n",
       "      <th>temp_max</th>\n",
       "      <th>temp_min</th>\n",
       "    </tr>\n",
       "    <tr>\n",
       "      <th>name</th>\n",
       "      <th></th>\n",
       "      <th></th>\n",
       "      <th></th>\n",
       "      <th></th>\n",
       "    </tr>\n",
       "  </thead>\n",
       "  <tbody>\n",
       "  </tbody>\n",
       "</table>\n",
       "</div>"
      ],
      "text/plain": [
       "Empty DataFrame\n",
       "Columns: [date, precip, temp_max, temp_min]\n",
       "Index: []"
      ]
     },
     "execution_count": 12,
     "metadata": {},
     "output_type": "execute_result"
    }
   ],
   "source": [
    "core_weather[pd.isnull(core_weather[\"precip\"])]"
   ]
  },
  {
   "cell_type": "code",
   "execution_count": 13,
   "metadata": {},
   "outputs": [
    {
     "data": {
      "text/html": [
       "<div>\n",
       "<style scoped>\n",
       "    .dataframe tbody tr th:only-of-type {\n",
       "        vertical-align: middle;\n",
       "    }\n",
       "\n",
       "    .dataframe tbody tr th {\n",
       "        vertical-align: top;\n",
       "    }\n",
       "\n",
       "    .dataframe thead th {\n",
       "        text-align: right;\n",
       "    }\n",
       "</style>\n",
       "<table border=\"1\" class=\"dataframe\">\n",
       "  <thead>\n",
       "    <tr style=\"text-align: right;\">\n",
       "      <th></th>\n",
       "      <th>date</th>\n",
       "      <th>precip</th>\n",
       "      <th>temp_max</th>\n",
       "      <th>temp_min</th>\n",
       "    </tr>\n",
       "    <tr>\n",
       "      <th>name</th>\n",
       "      <th></th>\n",
       "      <th></th>\n",
       "      <th></th>\n",
       "      <th></th>\n",
       "    </tr>\n",
       "  </thead>\n",
       "  <tbody>\n",
       "    <tr>\n",
       "      <th>Bhopal</th>\n",
       "      <td>22-03-2023</td>\n",
       "      <td>0.0</td>\n",
       "      <td>31.2</td>\n",
       "      <td>19.0</td>\n",
       "    </tr>\n",
       "    <tr>\n",
       "      <th>Bhopal</th>\n",
       "      <td>23-03-2023</td>\n",
       "      <td>0.0</td>\n",
       "      <td>32.0</td>\n",
       "      <td>22.0</td>\n",
       "    </tr>\n",
       "    <tr>\n",
       "      <th>Bhopal</th>\n",
       "      <td>24-03-2023</td>\n",
       "      <td>0.0</td>\n",
       "      <td>33.9</td>\n",
       "      <td>22.6</td>\n",
       "    </tr>\n",
       "    <tr>\n",
       "      <th>Bhopal</th>\n",
       "      <td>25-03-2023</td>\n",
       "      <td>0.0</td>\n",
       "      <td>33.6</td>\n",
       "      <td>21.1</td>\n",
       "    </tr>\n",
       "    <tr>\n",
       "      <th>Bhopal</th>\n",
       "      <td>26-03-2023</td>\n",
       "      <td>0.1</td>\n",
       "      <td>34.2</td>\n",
       "      <td>22.0</td>\n",
       "    </tr>\n",
       "    <tr>\n",
       "      <th>...</th>\n",
       "      <td>...</td>\n",
       "      <td>...</td>\n",
       "      <td>...</td>\n",
       "      <td>...</td>\n",
       "    </tr>\n",
       "    <tr>\n",
       "      <th>Pune</th>\n",
       "      <td>01-04-2023</td>\n",
       "      <td>0.1</td>\n",
       "      <td>31.1</td>\n",
       "      <td>19.6</td>\n",
       "    </tr>\n",
       "    <tr>\n",
       "      <th>Pune</th>\n",
       "      <td>02-04-2023</td>\n",
       "      <td>0.0</td>\n",
       "      <td>32.9</td>\n",
       "      <td>19.0</td>\n",
       "    </tr>\n",
       "    <tr>\n",
       "      <th>Pune</th>\n",
       "      <td>03-04-2023</td>\n",
       "      <td>0.0</td>\n",
       "      <td>33.5</td>\n",
       "      <td>18.1</td>\n",
       "    </tr>\n",
       "    <tr>\n",
       "      <th>Pune</th>\n",
       "      <td>04-04-2023</td>\n",
       "      <td>0.0</td>\n",
       "      <td>33.8</td>\n",
       "      <td>17.6</td>\n",
       "    </tr>\n",
       "    <tr>\n",
       "      <th>Pune</th>\n",
       "      <td>05-04-2023</td>\n",
       "      <td>0.0</td>\n",
       "      <td>33.8</td>\n",
       "      <td>17.7</td>\n",
       "    </tr>\n",
       "  </tbody>\n",
       "</table>\n",
       "<p>66 rows × 4 columns</p>\n",
       "</div>"
      ],
      "text/plain": [
       "              date  precip  temp_max  temp_min\n",
       "name                                          \n",
       "Bhopal  22-03-2023     0.0      31.2      19.0\n",
       "Bhopal  23-03-2023     0.0      32.0      22.0\n",
       "Bhopal  24-03-2023     0.0      33.9      22.6\n",
       "Bhopal  25-03-2023     0.0      33.6      21.1\n",
       "Bhopal  26-03-2023     0.1      34.2      22.0\n",
       "...            ...     ...       ...       ...\n",
       "Pune    01-04-2023     0.1      31.1      19.6\n",
       "Pune    02-04-2023     0.0      32.9      19.0\n",
       "Pune    03-04-2023     0.0      33.5      18.1\n",
       "Pune    04-04-2023     0.0      33.8      17.6\n",
       "Pune    05-04-2023     0.0      33.8      17.7\n",
       "\n",
       "[66 rows x 4 columns]"
      ]
     },
     "execution_count": 13,
     "metadata": {},
     "output_type": "execute_result"
    }
   ],
   "source": [
    "core_weather.loc[\"22-03-2023\":]"
   ]
  },
  {
   "cell_type": "code",
   "execution_count": 14,
   "metadata": {},
   "outputs": [
    {
     "data": {
      "text/plain": [
       "0.0     0.696970\n",
       "0.1     0.060606\n",
       "0.5     0.060606\n",
       "0.2     0.045455\n",
       "0.4     0.030303\n",
       "2.4     0.030303\n",
       "1.6     0.015152\n",
       "3.1     0.015152\n",
       "1.1     0.015152\n",
       "2.5     0.015152\n",
       "11.7    0.015152\n",
       "Name: precip, dtype: float64"
      ]
     },
     "execution_count": 14,
     "metadata": {},
     "output_type": "execute_result"
    }
   ],
   "source": [
    "core_weather[\"precip\"].value_counts() / core_weather.shape[0]"
   ]
  },
  {
   "cell_type": "code",
   "execution_count": 15,
   "metadata": {},
   "outputs": [],
   "source": [
    "core_weather[\"precip\"] = core_weather[\"precip\"].fillna(0)"
   ]
  },
  {
   "cell_type": "code",
   "execution_count": 16,
   "metadata": {},
   "outputs": [
    {
     "data": {
      "text/plain": [
       "date        0\n",
       "precip      0\n",
       "temp_max    0\n",
       "temp_min    0\n",
       "dtype: int64"
      ]
     },
     "execution_count": 16,
     "metadata": {},
     "output_type": "execute_result"
    }
   ],
   "source": [
    "core_weather.apply(pd.isnull).sum()"
   ]
  },
  {
   "cell_type": "code",
   "execution_count": 17,
   "metadata": {},
   "outputs": [
    {
     "data": {
      "text/html": [
       "<div>\n",
       "<style scoped>\n",
       "    .dataframe tbody tr th:only-of-type {\n",
       "        vertical-align: middle;\n",
       "    }\n",
       "\n",
       "    .dataframe tbody tr th {\n",
       "        vertical-align: top;\n",
       "    }\n",
       "\n",
       "    .dataframe thead th {\n",
       "        text-align: right;\n",
       "    }\n",
       "</style>\n",
       "<table border=\"1\" class=\"dataframe\">\n",
       "  <thead>\n",
       "    <tr style=\"text-align: right;\">\n",
       "      <th></th>\n",
       "      <th>date</th>\n",
       "      <th>precip</th>\n",
       "      <th>temp_max</th>\n",
       "      <th>temp_min</th>\n",
       "    </tr>\n",
       "    <tr>\n",
       "      <th>name</th>\n",
       "      <th></th>\n",
       "      <th></th>\n",
       "      <th></th>\n",
       "      <th></th>\n",
       "    </tr>\n",
       "  </thead>\n",
       "  <tbody>\n",
       "  </tbody>\n",
       "</table>\n",
       "</div>"
      ],
      "text/plain": [
       "Empty DataFrame\n",
       "Columns: [date, precip, temp_max, temp_min]\n",
       "Index: []"
      ]
     },
     "execution_count": 17,
     "metadata": {},
     "output_type": "execute_result"
    }
   ],
   "source": [
    "core_weather[pd.isnull(core_weather[\"temp_min\"])]"
   ]
  },
  {
   "cell_type": "code",
   "execution_count": 19,
   "metadata": {},
   "outputs": [
    {
     "data": {
      "text/html": [
       "<div>\n",
       "<style scoped>\n",
       "    .dataframe tbody tr th:only-of-type {\n",
       "        vertical-align: middle;\n",
       "    }\n",
       "\n",
       "    .dataframe tbody tr th {\n",
       "        vertical-align: top;\n",
       "    }\n",
       "\n",
       "    .dataframe thead th {\n",
       "        text-align: right;\n",
       "    }\n",
       "</style>\n",
       "<table border=\"1\" class=\"dataframe\">\n",
       "  <thead>\n",
       "    <tr style=\"text-align: right;\">\n",
       "      <th></th>\n",
       "      <th>date</th>\n",
       "      <th>precip</th>\n",
       "      <th>temp_max</th>\n",
       "      <th>temp_min</th>\n",
       "    </tr>\n",
       "    <tr>\n",
       "      <th>name</th>\n",
       "      <th></th>\n",
       "      <th></th>\n",
       "      <th></th>\n",
       "      <th></th>\n",
       "    </tr>\n",
       "  </thead>\n",
       "  <tbody>\n",
       "  </tbody>\n",
       "</table>\n",
       "</div>"
      ],
      "text/plain": [
       "Empty DataFrame\n",
       "Columns: [date, precip, temp_max, temp_min]\n",
       "Index: []"
      ]
     },
     "execution_count": 19,
     "metadata": {},
     "output_type": "execute_result"
    }
   ],
   "source": [
    "core_weather.loc[\"2023-03-22\":\"2023-04-05\"]"
   ]
  },
  {
   "cell_type": "code",
   "execution_count": 20,
   "metadata": {},
   "outputs": [],
   "source": [
    "core_weather = core_weather.fillna(method=\"ffill\")"
   ]
  },
  {
   "cell_type": "code",
   "execution_count": 21,
   "metadata": {},
   "outputs": [
    {
     "data": {
      "text/plain": [
       "date        0\n",
       "precip      0\n",
       "temp_max    0\n",
       "temp_min    0\n",
       "dtype: int64"
      ]
     },
     "execution_count": 21,
     "metadata": {},
     "output_type": "execute_result"
    }
   ],
   "source": [
    "core_weather.apply(pd.isnull).sum()"
   ]
  },
  {
   "cell_type": "code",
   "execution_count": 22,
   "metadata": {},
   "outputs": [
    {
     "data": {
      "text/plain": [
       "date        0\n",
       "precip      0\n",
       "temp_max    0\n",
       "temp_min    0\n",
       "dtype: int64"
      ]
     },
     "execution_count": 22,
     "metadata": {},
     "output_type": "execute_result"
    }
   ],
   "source": [
    "# Check for missing value defined in data documentation\n",
    "core_weather.apply(lambda x: (x == 9999).sum())"
   ]
  },
  {
   "cell_type": "code",
   "execution_count": 23,
   "metadata": {},
   "outputs": [
    {
     "data": {
      "text/plain": [
       "date         object\n",
       "precip      float64\n",
       "temp_max    float64\n",
       "temp_min    float64\n",
       "dtype: object"
      ]
     },
     "execution_count": 23,
     "metadata": {},
     "output_type": "execute_result"
    }
   ],
   "source": [
    "core_weather.dtypes"
   ]
  },
  {
   "cell_type": "code",
   "execution_count": 24,
   "metadata": {},
   "outputs": [
    {
     "data": {
      "text/plain": [
       "Index(['Bhopal', 'Bhopal', 'Bhopal', 'Bhopal', 'Bhopal', 'Bhopal', 'Bhopal',\n",
       "       'Bhopal', 'Bhopal', 'Bhopal', 'Bhopal', 'Bhopal', 'Bhopal', 'Bhopal',\n",
       "       'Bhopal', 'Chennai', 'Chennai', 'Chennai', 'Chennai', 'Chennai',\n",
       "       'Chennai', 'Chennai', 'Chennai', 'Chennai', 'Chennai', 'Chennai',\n",
       "       'Chennai', 'Chennai', 'Chennai', 'Chennai', 'Delhi', 'Delhi', 'Delhi',\n",
       "       'Delhi', 'Delhi', 'Delhi', 'Kolkata', 'Kolkata', 'Kolkata', 'Kolkata',\n",
       "       'Kolkata', 'Kolkata', 'Kolkata', 'Kolkata', 'Kolkata', 'Kolkata',\n",
       "       'Kolkata', 'Kolkata', 'Kolkata', 'Kolkata', 'Kolkata', 'Pune', 'Pune',\n",
       "       'Pune', 'Pune', 'Pune', 'Pune', 'Pune', 'Pune', 'Pune', 'Pune', 'Pune',\n",
       "       'Pune', 'Pune', 'Pune', 'Pune'],\n",
       "      dtype='object', name='name')"
      ]
     },
     "execution_count": 24,
     "metadata": {},
     "output_type": "execute_result"
    }
   ],
   "source": [
    "core_weather.index"
   ]
  },
  {
   "cell_type": "code",
   "execution_count": 25,
   "metadata": {},
   "outputs": [
    {
     "name": "stdout",
     "output_type": "stream",
     "text": [
      "Unexpected exception formatting exception. Falling back to standard exception\n"
     ]
    },
    {
     "name": "stderr",
     "output_type": "stream",
     "text": [
      "Traceback (most recent call last):\n",
      "  File \"pandas\\_libs\\tslib.pyx\", line 605, in pandas._libs.tslib.array_to_datetime\n",
      "  File \"pandas\\_libs\\tslibs\\parsing.pyx\", line 318, in pandas._libs.tslibs.parsing.parse_datetime_string\n",
      "  File \"c:\\Users\\mehul\\AppData\\Local\\Programs\\Python\\Python38\\lib\\site-packages\\dateutil\\parser\\_parser.py\", line 1368, in parse\n",
      "    return DEFAULTPARSER.parse(timestr, **kwargs)\n",
      "  File \"c:\\Users\\mehul\\AppData\\Local\\Programs\\Python\\Python38\\lib\\site-packages\\dateutil\\parser\\_parser.py\", line 643, in parse\n",
      "    raise ParserError(\"Unknown string format: %s\", timestr)\n",
      "dateutil.parser._parser.ParserError: Unknown string format: Bhopal\n",
      "\n",
      "During handling of the above exception, another exception occurred:\n",
      "\n",
      "Traceback (most recent call last):\n",
      "  File \"pandas\\_libs\\tslib.pyx\", line 616, in pandas._libs.tslib.array_to_datetime\n",
      "TypeError: invalid string coercion to datetime for \"Bhopal\" at position 0\n",
      "\n",
      "During handling of the above exception, another exception occurred:\n",
      "\n",
      "Traceback (most recent call last):\n",
      "  File \"c:\\Users\\mehul\\AppData\\Local\\Programs\\Python\\Python38\\lib\\site-packages\\IPython\\core\\interactiveshell.py\", line 3460, in run_code\n",
      "    exec(code_obj, self.user_global_ns, self.user_ns)\n",
      "  File \"C:\\Users\\mehul\\AppData\\Local\\Temp\\ipykernel_14344\\3501870966.py\", line 1, in <module>\n",
      "    core_weather.index = pd.to_datetime(core_weather.index)\n",
      "  File \"c:\\Users\\mehul\\AppData\\Local\\Programs\\Python\\Python38\\lib\\site-packages\\pandas\\core\\tools\\datetimes.py\", line 1073, in to_datetime\n",
      "    cache_array = _maybe_cache(arg, format, cache, convert_listlike)\n",
      "  File \"c:\\Users\\mehul\\AppData\\Local\\Programs\\Python\\Python38\\lib\\site-packages\\pandas\\core\\tools\\datetimes.py\", line 229, in _maybe_cache\n",
      "    cache_dates = convert_listlike(unique_dates, format)\n",
      "  File \"c:\\Users\\mehul\\AppData\\Local\\Programs\\Python\\Python38\\lib\\site-packages\\pandas\\core\\tools\\datetimes.py\", line 438, in _convert_listlike_datetimes\n",
      "    result, tz_parsed = objects_to_datetime64ns(\n",
      "  File \"c:\\Users\\mehul\\AppData\\Local\\Programs\\Python\\Python38\\lib\\site-packages\\pandas\\core\\arrays\\datetimes.py\", line 2177, in objects_to_datetime64ns\n",
      "    result, tz_parsed = tslib.array_to_datetime(\n",
      "  File \"pandas\\_libs\\tslib.pyx\", line 427, in pandas._libs.tslib.array_to_datetime\n",
      "  File \"pandas\\_libs\\tslib.pyx\", line 683, in pandas._libs.tslib.array_to_datetime\n",
      "  File \"pandas\\_libs\\tslib.pyx\", line 829, in pandas._libs.tslib._array_to_datetime_object\n",
      "  File \"pandas\\_libs\\tslib.pyx\", line 819, in pandas._libs.tslib._array_to_datetime_object\n",
      "  File \"pandas\\_libs\\tslibs\\parsing.pyx\", line 318, in pandas._libs.tslibs.parsing.parse_datetime_string\n",
      "  File \"c:\\Users\\mehul\\AppData\\Local\\Programs\\Python\\Python38\\lib\\site-packages\\dateutil\\parser\\_parser.py\", line 1368, in parse\n",
      "    return DEFAULTPARSER.parse(timestr, **kwargs)\n",
      "  File \"c:\\Users\\mehul\\AppData\\Local\\Programs\\Python\\Python38\\lib\\site-packages\\dateutil\\parser\\_parser.py\", line 643, in parse\n",
      "    raise ParserError(\"Unknown string format: %s\", timestr)\n",
      "dateutil.parser._parser.ParserError: Unknown string format: Bhopal present at position 0\n",
      "\n",
      "During handling of the above exception, another exception occurred:\n",
      "\n",
      "Traceback (most recent call last):\n",
      "  File \"c:\\Users\\mehul\\AppData\\Local\\Programs\\Python\\Python38\\lib\\site-packages\\IPython\\core\\interactiveshell.py\", line 2057, in showtraceback\n",
      "    stb = self.InteractiveTB.structured_traceback(\n",
      "  File \"c:\\Users\\mehul\\AppData\\Local\\Programs\\Python\\Python38\\lib\\site-packages\\IPython\\core\\ultratb.py\", line 1288, in structured_traceback\n",
      "    return FormattedTB.structured_traceback(\n",
      "  File \"c:\\Users\\mehul\\AppData\\Local\\Programs\\Python\\Python38\\lib\\site-packages\\IPython\\core\\ultratb.py\", line 1177, in structured_traceback\n",
      "    return VerboseTB.structured_traceback(\n",
      "  File \"c:\\Users\\mehul\\AppData\\Local\\Programs\\Python\\Python38\\lib\\site-packages\\IPython\\core\\ultratb.py\", line 1049, in structured_traceback\n",
      "    formatted_exceptions += self.format_exception_as_a_whole(etype, evalue, etb, lines_of_context,\n",
      "  File \"c:\\Users\\mehul\\AppData\\Local\\Programs\\Python\\Python38\\lib\\site-packages\\IPython\\core\\ultratb.py\", line 935, in format_exception_as_a_whole\n",
      "    self.get_records(etb, number_of_lines_of_context, tb_offset) if etb else []\n",
      "  File \"c:\\Users\\mehul\\AppData\\Local\\Programs\\Python\\Python38\\lib\\site-packages\\IPython\\core\\ultratb.py\", line 1003, in get_records\n",
      "    lines, first = inspect.getsourcelines(etb.tb_frame)\n",
      "  File \"c:\\Users\\mehul\\AppData\\Local\\Programs\\Python\\Python38\\lib\\inspect.py\", line 979, in getsourcelines\n",
      "    lines, lnum = findsource(object)\n",
      "  File \"c:\\Users\\mehul\\AppData\\Local\\Programs\\Python\\Python38\\lib\\inspect.py\", line 798, in findsource\n",
      "    raise OSError('could not get source code')\n",
      "OSError: could not get source code\n"
     ]
    }
   ],
   "source": [
    "core_weather.index = pd.to_datetime(core_weather.index)"
   ]
  }
 ],
 "metadata": {
  "kernelspec": {
   "display_name": "Python 3",
   "language": "python",
   "name": "python3"
  },
  "language_info": {
   "codemirror_mode": {
    "name": "ipython",
    "version": 3
   },
   "file_extension": ".py",
   "mimetype": "text/x-python",
   "name": "python",
   "nbconvert_exporter": "python",
   "pygments_lexer": "ipython3",
   "version": "3.8.10"
  },
  "orig_nbformat": 4
 },
 "nbformat": 4,
 "nbformat_minor": 2
}
