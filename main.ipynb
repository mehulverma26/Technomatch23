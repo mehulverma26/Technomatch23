{
 "cells": [
  {
   "cell_type": "code",
   "execution_count": null,
   "metadata": {},
   "outputs": [],
   "source": [
    "%pip install --upgrade pandas\n",
    "%pip install --upgrade numpy\n",
    "%pip install --upgrade matplotlib\n",
    "%pip install --upgrade seaborn\n",
    "%pip install --upgrade scikit-learn-intelex\n",
    "%pip install --upgrade dpcpp-cpp-rt\n",
    "%pip install --upgrade xgboost\n",
    "%pip install --upgrade sklearn-ex"
   ]
  },
  {
   "cell_type": "code",
   "execution_count": null,
   "metadata": {},
   "outputs": [],
   "source": [
    "from sklearnex import patch_sklearn\n",
    "patch_sklearn()"
   ]
  },
  {
   "cell_type": "markdown",
   "metadata": {},
   "source": [
    "Importing Libraries"
   ]
  }
 ],
 "metadata": {
  "kernelspec": {
   "display_name": "Python 3",
   "language": "python",
   "name": "python3"
  },
  "language_info": {
   "name": "python",
   "version": "3.8.10"
  },
  "orig_nbformat": 4
 },
 "nbformat": 4,
 "nbformat_minor": 2
}
